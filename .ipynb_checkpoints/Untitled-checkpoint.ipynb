{
 "cells": [
  {
   "cell_type": "code",
   "execution_count": null,
   "metadata": {},
   "outputs": [],
   "source": [
    "from stocktalk import streaming, visualize\n",
    "\n",
    "# Credentials to access Twitter API \n",
    "API_KEY = '3fXxn0WxnrTbyOuImMsrgmnLH'\n",
    "API_SECRET = '8E8G4h44Hcmzs3Qyby3dITjneUONMTtWOJqwrnf13zwd5wCwCf'\n",
    "ACCESS_TOKEN = '839716001126174720-pRfX7PE7Mru8fnep6FaPbqvdYZtyUvj'\n",
    "ACCESS_TOKEN_SECRET = 'IyDnUCcXgXwCYsxgyn3KVE0TFcN1qTelzO1KevT74rmCE'\n",
    "credentials = [API_KEY, API_SECRET, ACCESS_TOKEN, ACCESS_TOKEN_SECRET]\n",
    "\n",
    "# First element must be ticker/name, proceeding elements are extra queries\n",
    "TSLA = ['TSLA', 'Tesla']\n",
    "SNAP = ['SNAP', 'Snapchat']\n",
    "AAPL = ['AAPL', 'Apple']\n",
    "AMZN = ['AMZN', 'Amazon']\n",
    "\n",
    "# Variables\n",
    "tickers = [TSLA,SNAP,AAPL,AMZN]  # Used for identification purposes\n",
    "queries =  TSLA+SNAP+AAPL+AMZN   # Filters tweets containing one or more query \n",
    "refresh = 30                     # Process and log data every 30 seconds\n",
    "\n",
    "# Create a folder to collect logs and temporary files\n",
    "path = \"data/\"\n",
    "\n",
    "streaming(credentials, tickers, queries, refresh, path, \\\n",
    "realtime=True, logTracker=True, logTweets=True, logSentiment=True, debug=True)\n",
    "visualize(tickers, refresh, path)\n",
    "\n",
    "\n",
    "'''\n",
    "Steps to run local bokeh server\n",
    "1. Make sure streaming.py is running...\n",
    "2. Traverse in console to the directory containing visualize.py\n",
    "3. python -m bokeh serve --show visualize.py\n",
    "'''"
   ]
  },
  {
   "cell_type": "code",
   "execution_count": null,
   "metadata": {
    "collapsed": true
   },
   "outputs": [],
   "source": []
  }
 ],
 "metadata": {
  "kernelspec": {
   "display_name": "Python 3",
   "language": "python",
   "name": "python3"
  },
  "language_info": {
   "codemirror_mode": {
    "name": "ipython",
    "version": 3
   },
   "file_extension": ".py",
   "mimetype": "text/x-python",
   "name": "python",
   "nbconvert_exporter": "python",
   "pygments_lexer": "ipython3",
   "version": "3.5.2"
  }
 },
 "nbformat": 4,
 "nbformat_minor": 2
}
