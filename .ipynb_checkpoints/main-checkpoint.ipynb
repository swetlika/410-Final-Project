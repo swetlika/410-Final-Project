{
 "cells": [
  {
   "cell_type": "code",
   "execution_count": 19,
   "metadata": {
    "collapsed": true
   },
   "outputs": [],
   "source": [
    "import re\n",
    "import csv\n",
    "import pprint\n",
    "import nltk.classify"
   ]
  },
  {
   "cell_type": "code",
   "execution_count": 23,
   "metadata": {},
   "outputs": [],
   "source": [
    "def preprocess(tweet):\n",
    "    # replace 2+ repetitions of a character\n",
    "    pattern = re.compile(r\"(.)\\1{1,}\", re.DOTALL) \n",
    "    tweet = pattern.sub(r\"\\1\\1\", tweet)\n",
    "    \n",
    "    # convert to lowercase\n",
    "    tweet = tweet.lower()\n",
    "    \n",
    "    # remove www. https?://\n",
    "    tweet = re.sub('((www\\.[^\\s]+)|(https?://[^\\s]+))','',tweet)\n",
    "    \n",
    "    # remove @username\n",
    "    tweet = re.sub('@[^\\s]+','',tweet)\n",
    "    \n",
    "    # remove additional white spaces\n",
    "    tweet = re.sub('[\\s]+', ' ', tweet)\n",
    "    \n",
    "    # remove hashtages\n",
    "    tweet = re.sub(r'#([^\\s]+)', r'\\1', tweet)\n",
    "    \n",
    "    # remove punctuation\n",
    "    tweet = re.sub(r'[^\\w\\s]','',tweet)\n",
    "    \n",
    "    # trim\n",
    "    tweet = tweet.strip('\\'\"')\n",
    "\n",
    "    return tweet"
   ]
  },
  {
   "cell_type": "code",
   "execution_count": 24,
   "metadata": {
    "collapsed": true
   },
   "outputs": [],
   "source": [
    "def getStopWords(stopwordsfile):\n",
    "    stopwords = []\n",
    "\n",
    "    fp = open(stopwordsfile, 'r')\n",
    "    line = fp.readline()\n",
    "    while line:\n",
    "        word = line.strip()\n",
    "        stopwords.append(word)\n",
    "        line = fp.readline()\n",
    "    fp.close()\n",
    "    return stopwords"
   ]
  },
  {
   "cell_type": "code",
   "execution_count": 31,
   "metadata": {},
   "outputs": [],
   "source": [
    "def getFeatureVector(tweet, stopwords):\n",
    "    featurevector = []\n",
    "    words = tweet.split()\n",
    "    for word in words:\n",
    "        word = replaceTwoOrMore(word)\n",
    "        val = re.search(r\"^[a-zA-Z][a-zA-Z0-9]*$\", word)\n",
    "        if(word in stopwords or val is None):\n",
    "            continue\n",
    "        else:\n",
    "            featurevector.append(word.lower())\n",
    "    return featurevector"
   ]
  },
  {
   "cell_type": "code",
   "execution_count": 32,
   "metadata": {
    "collapsed": true
   },
   "outputs": [],
   "source": [
    "def extractFeatures(tweet):\n",
    "    tweet_words = set(tweet)\n",
    "    features = {}\n",
    "    for word in featureList:\n",
    "        features['contains(%s)' % word] = (word in tweet_words)\n",
    "    return features"
   ]
  },
  {
   "cell_type": "code",
   "execution_count": 34,
   "metadata": {},
   "outputs": [
    {
     "name": "stdout",
     "output_type": "stream",
     "text": [
      "testTweet = Congrats @ravikiranj, i heard you wrote a new tech post on sentiment analysis, sentiment = positive\n",
      "\n"
     ]
    }
   ],
   "source": [
    "# example:\n",
    "#Read the tweets one by one and process it\n",
    "inpTweets = csv.reader(open('data/sampleTweets.csv', 'r'), delimiter=',', quotechar='|')\n",
    "stopWords = getStopWords('data/stopwords.txt')\n",
    "count = 0;\n",
    "featureList = []\n",
    "tweets = []\n",
    "for row in inpTweets:\n",
    "    sentiment = row[0]\n",
    "    tweet = row[1]\n",
    "    processedTweet = preprocess(tweet)\n",
    "    featureVector = getFeatureVector(processedTweet, stopWords)\n",
    "    featureList.extend(featureVector)\n",
    "    tweets.append((featureVector, sentiment));\n",
    "\n",
    "# Remove featureList duplicates\n",
    "featureList = list(set(featureList))\n",
    "\n",
    "# Generate the training set\n",
    "training_set = nltk.classify.util.apply_features(extractFeatures, tweets)\n",
    "\n",
    "# Train the Naive Bayes classifier\n",
    "NBClassifier = nltk.NaiveBayesClassifier.train(training_set)\n",
    "\n",
    "# Test the classifier\n",
    "testTweet = 'Congrats @ravikiranj, i heard you wrote a new tech post on sentiment analysis'\n",
    "processedTestTweet = preprocess(testTweet)\n",
    "sentiment = NBClassifier.classify(extractFeatures(getFeatureVector(processedTestTweet, stopWords)))\n",
    "print(\"testTweet = %s, sentiment = %s\\n\" % (testTweet, sentiment))"
   ]
  },
  {
   "cell_type": "code",
   "execution_count": null,
   "metadata": {
    "collapsed": true
   },
   "outputs": [],
   "source": []
  }
 ],
 "metadata": {
  "kernelspec": {
   "display_name": "Python 3",
   "language": "python",
   "name": "python3"
  },
  "language_info": {
   "codemirror_mode": {
    "name": "ipython",
    "version": 3
   },
   "file_extension": ".py",
   "mimetype": "text/x-python",
   "name": "python",
   "nbconvert_exporter": "python",
   "pygments_lexer": "ipython3",
   "version": "3.5.3"
  }
 },
 "nbformat": 4,
 "nbformat_minor": 2
}
